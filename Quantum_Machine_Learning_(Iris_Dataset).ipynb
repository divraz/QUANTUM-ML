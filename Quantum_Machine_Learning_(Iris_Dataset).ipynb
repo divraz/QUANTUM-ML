{
  "nbformat": 4,
  "nbformat_minor": 0,
  "metadata": {
    "colab": {
      "provenance": [],
      "collapsed_sections": [],
      "include_colab_link": true
    },
    "kernelspec": {
      "name": "python3",
      "display_name": "Python 3"
    },
    "language_info": {
      "name": "python"
    },
    "accelerator": "GPU",
    "gpuClass": "standard"
  },
  "cells": [
    {
      "cell_type": "markdown",
      "metadata": {
        "id": "view-in-github",
        "colab_type": "text"
      },
      "source": [
        "<a href=\"https://colab.research.google.com/github/divyanshuraj6815/QUANTUM-ML/blob/main/Quantum_Machine_Learning_(Iris_Dataset).ipynb\" target=\"_parent\"><img src=\"https://colab.research.google.com/assets/colab-badge.svg\" alt=\"Open In Colab\"/></a>"
      ]
    },
    {
      "cell_type": "code",
      "execution_count": 1,
      "metadata": {
        "id": "wAEZw8d-S-q6"
      },
      "outputs": [],
      "source": [
        "!pip install pennylane >> /dev/null\n",
        "!pip install strawberryfields >> /dev/null\n",
        "!pip install PennyLane-SF >> /dev/null"
      ]
    },
    {
      "cell_type": "code",
      "source": [
        "import tensorflow as tf\n",
        "import tensorflow_datasets as tfds\n",
        "from tensorflow import keras\n",
        "from tensorflow.keras import layers\n",
        "\n",
        "import pennylane as qml\n",
        "import numpy as np\n",
        "\n",
        "import matplotlib.pyplot as plt\n",
        "\n",
        "from sklearn.model_selection import train_test_split, GridSearchCV\n",
        "from sklearn.preprocessing import OneHotEncoder, LabelEncoder, StandardScaler"
      ],
      "metadata": {
        "id": "UXyZlNMWTKy1"
      },
      "execution_count": 1,
      "outputs": []
    },
    {
      "cell_type": "code",
      "source": [
        "!wget https://archive.ics.uci.edu/ml/machine-learning-databases/iris/iris.data"
      ],
      "metadata": {
        "id": "T1ltsJef46HS",
        "colab": {
          "base_uri": "https://localhost:8080/"
        },
        "outputId": "1cdaafdf-a109-47ff-e91d-761460be4d28"
      },
      "execution_count": 3,
      "outputs": [
        {
          "output_type": "stream",
          "name": "stdout",
          "text": [
            "--2022-11-06 23:17:35--  https://archive.ics.uci.edu/ml/machine-learning-databases/iris/iris.data\n",
            "Resolving archive.ics.uci.edu (archive.ics.uci.edu)... 128.195.10.252\n",
            "Connecting to archive.ics.uci.edu (archive.ics.uci.edu)|128.195.10.252|:443... connected.\n",
            "HTTP request sent, awaiting response... 200 OK\n",
            "Length: 4551 (4.4K) [application/x-httpd-php]\n",
            "Saving to: ‘iris.data’\n",
            "\n",
            "iris.data           100%[===================>]   4.44K  --.-KB/s    in 0s      \n",
            "\n",
            "2022-11-06 23:17:35 (106 MB/s) - ‘iris.data’ saved [4551/4551]\n",
            "\n"
          ]
        }
      ]
    },
    {
      "cell_type": "code",
      "source": [
        "import pandas as pd"
      ],
      "metadata": {
        "id": "kLB3UfeP5CZr"
      },
      "execution_count": 2,
      "outputs": []
    },
    {
      "cell_type": "code",
      "source": [
        "df = pd.read_csv ('iris.data', names = ['f1', 'f2', 'f3', 'f4', 'class'], header = None)"
      ],
      "metadata": {
        "id": "5PYMSAjL5FDH"
      },
      "execution_count": 3,
      "outputs": []
    },
    {
      "cell_type": "code",
      "source": [
        "df"
      ],
      "metadata": {
        "id": "J3fM0ETP5hui",
        "outputId": "809e5305-5a4e-43f1-a549-2906e5a0938c",
        "colab": {
          "base_uri": "https://localhost:8080/",
          "height": 424
        }
      },
      "execution_count": 4,
      "outputs": [
        {
          "output_type": "execute_result",
          "data": {
            "text/plain": [
              "      f1   f2   f3   f4           class\n",
              "0    5.1  3.5  1.4  0.2     Iris-setosa\n",
              "1    4.9  3.0  1.4  0.2     Iris-setosa\n",
              "2    4.7  3.2  1.3  0.2     Iris-setosa\n",
              "3    4.6  3.1  1.5  0.2     Iris-setosa\n",
              "4    5.0  3.6  1.4  0.2     Iris-setosa\n",
              "..   ...  ...  ...  ...             ...\n",
              "145  6.7  3.0  5.2  2.3  Iris-virginica\n",
              "146  6.3  2.5  5.0  1.9  Iris-virginica\n",
              "147  6.5  3.0  5.2  2.0  Iris-virginica\n",
              "148  6.2  3.4  5.4  2.3  Iris-virginica\n",
              "149  5.9  3.0  5.1  1.8  Iris-virginica\n",
              "\n",
              "[150 rows x 5 columns]"
            ],
            "text/html": [
              "\n",
              "  <div id=\"df-55fc6431-e271-49b1-ae96-4445a657f4eb\">\n",
              "    <div class=\"colab-df-container\">\n",
              "      <div>\n",
              "<style scoped>\n",
              "    .dataframe tbody tr th:only-of-type {\n",
              "        vertical-align: middle;\n",
              "    }\n",
              "\n",
              "    .dataframe tbody tr th {\n",
              "        vertical-align: top;\n",
              "    }\n",
              "\n",
              "    .dataframe thead th {\n",
              "        text-align: right;\n",
              "    }\n",
              "</style>\n",
              "<table border=\"1\" class=\"dataframe\">\n",
              "  <thead>\n",
              "    <tr style=\"text-align: right;\">\n",
              "      <th></th>\n",
              "      <th>f1</th>\n",
              "      <th>f2</th>\n",
              "      <th>f3</th>\n",
              "      <th>f4</th>\n",
              "      <th>class</th>\n",
              "    </tr>\n",
              "  </thead>\n",
              "  <tbody>\n",
              "    <tr>\n",
              "      <th>0</th>\n",
              "      <td>5.1</td>\n",
              "      <td>3.5</td>\n",
              "      <td>1.4</td>\n",
              "      <td>0.2</td>\n",
              "      <td>Iris-setosa</td>\n",
              "    </tr>\n",
              "    <tr>\n",
              "      <th>1</th>\n",
              "      <td>4.9</td>\n",
              "      <td>3.0</td>\n",
              "      <td>1.4</td>\n",
              "      <td>0.2</td>\n",
              "      <td>Iris-setosa</td>\n",
              "    </tr>\n",
              "    <tr>\n",
              "      <th>2</th>\n",
              "      <td>4.7</td>\n",
              "      <td>3.2</td>\n",
              "      <td>1.3</td>\n",
              "      <td>0.2</td>\n",
              "      <td>Iris-setosa</td>\n",
              "    </tr>\n",
              "    <tr>\n",
              "      <th>3</th>\n",
              "      <td>4.6</td>\n",
              "      <td>3.1</td>\n",
              "      <td>1.5</td>\n",
              "      <td>0.2</td>\n",
              "      <td>Iris-setosa</td>\n",
              "    </tr>\n",
              "    <tr>\n",
              "      <th>4</th>\n",
              "      <td>5.0</td>\n",
              "      <td>3.6</td>\n",
              "      <td>1.4</td>\n",
              "      <td>0.2</td>\n",
              "      <td>Iris-setosa</td>\n",
              "    </tr>\n",
              "    <tr>\n",
              "      <th>...</th>\n",
              "      <td>...</td>\n",
              "      <td>...</td>\n",
              "      <td>...</td>\n",
              "      <td>...</td>\n",
              "      <td>...</td>\n",
              "    </tr>\n",
              "    <tr>\n",
              "      <th>145</th>\n",
              "      <td>6.7</td>\n",
              "      <td>3.0</td>\n",
              "      <td>5.2</td>\n",
              "      <td>2.3</td>\n",
              "      <td>Iris-virginica</td>\n",
              "    </tr>\n",
              "    <tr>\n",
              "      <th>146</th>\n",
              "      <td>6.3</td>\n",
              "      <td>2.5</td>\n",
              "      <td>5.0</td>\n",
              "      <td>1.9</td>\n",
              "      <td>Iris-virginica</td>\n",
              "    </tr>\n",
              "    <tr>\n",
              "      <th>147</th>\n",
              "      <td>6.5</td>\n",
              "      <td>3.0</td>\n",
              "      <td>5.2</td>\n",
              "      <td>2.0</td>\n",
              "      <td>Iris-virginica</td>\n",
              "    </tr>\n",
              "    <tr>\n",
              "      <th>148</th>\n",
              "      <td>6.2</td>\n",
              "      <td>3.4</td>\n",
              "      <td>5.4</td>\n",
              "      <td>2.3</td>\n",
              "      <td>Iris-virginica</td>\n",
              "    </tr>\n",
              "    <tr>\n",
              "      <th>149</th>\n",
              "      <td>5.9</td>\n",
              "      <td>3.0</td>\n",
              "      <td>5.1</td>\n",
              "      <td>1.8</td>\n",
              "      <td>Iris-virginica</td>\n",
              "    </tr>\n",
              "  </tbody>\n",
              "</table>\n",
              "<p>150 rows × 5 columns</p>\n",
              "</div>\n",
              "      <button class=\"colab-df-convert\" onclick=\"convertToInteractive('df-55fc6431-e271-49b1-ae96-4445a657f4eb')\"\n",
              "              title=\"Convert this dataframe to an interactive table.\"\n",
              "              style=\"display:none;\">\n",
              "        \n",
              "  <svg xmlns=\"http://www.w3.org/2000/svg\" height=\"24px\"viewBox=\"0 0 24 24\"\n",
              "       width=\"24px\">\n",
              "    <path d=\"M0 0h24v24H0V0z\" fill=\"none\"/>\n",
              "    <path d=\"M18.56 5.44l.94 2.06.94-2.06 2.06-.94-2.06-.94-.94-2.06-.94 2.06-2.06.94zm-11 1L8.5 8.5l.94-2.06 2.06-.94-2.06-.94L8.5 2.5l-.94 2.06-2.06.94zm10 10l.94 2.06.94-2.06 2.06-.94-2.06-.94-.94-2.06-.94 2.06-2.06.94z\"/><path d=\"M17.41 7.96l-1.37-1.37c-.4-.4-.92-.59-1.43-.59-.52 0-1.04.2-1.43.59L10.3 9.45l-7.72 7.72c-.78.78-.78 2.05 0 2.83L4 21.41c.39.39.9.59 1.41.59.51 0 1.02-.2 1.41-.59l7.78-7.78 2.81-2.81c.8-.78.8-2.07 0-2.86zM5.41 20L4 18.59l7.72-7.72 1.47 1.35L5.41 20z\"/>\n",
              "  </svg>\n",
              "      </button>\n",
              "      \n",
              "  <style>\n",
              "    .colab-df-container {\n",
              "      display:flex;\n",
              "      flex-wrap:wrap;\n",
              "      gap: 12px;\n",
              "    }\n",
              "\n",
              "    .colab-df-convert {\n",
              "      background-color: #E8F0FE;\n",
              "      border: none;\n",
              "      border-radius: 50%;\n",
              "      cursor: pointer;\n",
              "      display: none;\n",
              "      fill: #1967D2;\n",
              "      height: 32px;\n",
              "      padding: 0 0 0 0;\n",
              "      width: 32px;\n",
              "    }\n",
              "\n",
              "    .colab-df-convert:hover {\n",
              "      background-color: #E2EBFA;\n",
              "      box-shadow: 0px 1px 2px rgba(60, 64, 67, 0.3), 0px 1px 3px 1px rgba(60, 64, 67, 0.15);\n",
              "      fill: #174EA6;\n",
              "    }\n",
              "\n",
              "    [theme=dark] .colab-df-convert {\n",
              "      background-color: #3B4455;\n",
              "      fill: #D2E3FC;\n",
              "    }\n",
              "\n",
              "    [theme=dark] .colab-df-convert:hover {\n",
              "      background-color: #434B5C;\n",
              "      box-shadow: 0px 1px 3px 1px rgba(0, 0, 0, 0.15);\n",
              "      filter: drop-shadow(0px 1px 2px rgba(0, 0, 0, 0.3));\n",
              "      fill: #FFFFFF;\n",
              "    }\n",
              "  </style>\n",
              "\n",
              "      <script>\n",
              "        const buttonEl =\n",
              "          document.querySelector('#df-55fc6431-e271-49b1-ae96-4445a657f4eb button.colab-df-convert');\n",
              "        buttonEl.style.display =\n",
              "          google.colab.kernel.accessAllowed ? 'block' : 'none';\n",
              "\n",
              "        async function convertToInteractive(key) {\n",
              "          const element = document.querySelector('#df-55fc6431-e271-49b1-ae96-4445a657f4eb');\n",
              "          const dataTable =\n",
              "            await google.colab.kernel.invokeFunction('convertToInteractive',\n",
              "                                                     [key], {});\n",
              "          if (!dataTable) return;\n",
              "\n",
              "          const docLinkHtml = 'Like what you see? Visit the ' +\n",
              "            '<a target=\"_blank\" href=https://colab.research.google.com/notebooks/data_table.ipynb>data table notebook</a>'\n",
              "            + ' to learn more about interactive tables.';\n",
              "          element.innerHTML = '';\n",
              "          dataTable['output_type'] = 'display_data';\n",
              "          await google.colab.output.renderOutput(dataTable, element);\n",
              "          const docLink = document.createElement('div');\n",
              "          docLink.innerHTML = docLinkHtml;\n",
              "          element.appendChild(docLink);\n",
              "        }\n",
              "      </script>\n",
              "    </div>\n",
              "  </div>\n",
              "  "
            ]
          },
          "metadata": {},
          "execution_count": 4
        }
      ]
    },
    {
      "cell_type": "code",
      "source": [
        "Y = df['class']\n",
        "X = df.drop(['class'], axis=1)\n",
        "print(\"Shape of Input  features: {}\".format(X.shape))\n",
        "print(\"Shape of Output features: {}\".format(Y.shape))"
      ],
      "metadata": {
        "id": "RATtVIzm5v7Z",
        "outputId": "bb5e2734-59e8-40a6-c6bb-1bb28d6f973b",
        "colab": {
          "base_uri": "https://localhost:8080/"
        }
      },
      "execution_count": 5,
      "outputs": [
        {
          "output_type": "stream",
          "name": "stdout",
          "text": [
            "Shape of Input  features: (150, 4)\n",
            "Shape of Output features: (150,)\n"
          ]
        }
      ]
    },
    {
      "cell_type": "code",
      "source": [
        "Y.value_counts()"
      ],
      "metadata": {
        "id": "LTGDPSUm53iz",
        "outputId": "ae080e60-f3ac-45f1-a7bd-ed43c6f42551",
        "colab": {
          "base_uri": "https://localhost:8080/"
        }
      },
      "execution_count": 6,
      "outputs": [
        {
          "output_type": "execute_result",
          "data": {
            "text/plain": [
              "Iris-setosa        50\n",
              "Iris-versicolor    50\n",
              "Iris-virginica     50\n",
              "Name: class, dtype: int64"
            ]
          },
          "metadata": {},
          "execution_count": 6
        }
      ]
    },
    {
      "cell_type": "code",
      "source": [
        "lbl_clf = LabelEncoder()\n",
        "Y_encoded = lbl_clf.fit_transform(Y)"
      ],
      "metadata": {
        "id": "Whaf2TWa58LL"
      },
      "execution_count": 7,
      "outputs": []
    },
    {
      "cell_type": "code",
      "source": [
        "def one_hot(labels):  \n",
        "       \n",
        "    depth =  4**2                       # 3 classes + 13 zeros for padding\n",
        "    indices = labels.astype(np.int64)    \n",
        "    one_hot_labels = np.eye(depth)[indices].astype(np.float64) \n",
        "    \n",
        "    return one_hot_labels\n",
        "\n",
        "\n",
        "Y_train = one_hot(Y_encoded)"
      ],
      "metadata": {
        "id": "tcjOua1kTRdQ"
      },
      "execution_count": 9,
      "outputs": []
    },
    {
      "cell_type": "code",
      "source": [
        "x_train, x_test, y_train, y_test = train_test_split(X, Y_train, test_size=0.05, random_state=42, stratify=Y_encoded, shuffle=True)\n",
        "\n",
        "print(\"Training Input shape\\t: {}\".format(x_train.shape))\n",
        "print(\"Testing Input shape\\t: {}\".format(x_test.shape))\n",
        "print(\"Training Output shape\\t: {}\".format(y_train.shape))\n",
        "print(\"Testing Output shape\\t: {}\".format(y_test.shape))"
      ],
      "metadata": {
        "id": "JrzH5_x36HyS",
        "outputId": "297acffc-9479-4b16-a02e-68275b582baf",
        "colab": {
          "base_uri": "https://localhost:8080/"
        }
      },
      "execution_count": 10,
      "outputs": [
        {
          "output_type": "stream",
          "name": "stdout",
          "text": [
            "Training Input shape\t: (142, 4)\n",
            "Testing Input shape\t: (8, 4)\n",
            "Training Output shape\t: (142, 16)\n",
            "Testing Output shape\t: (8, 16)\n"
          ]
        }
      ]
    },
    {
      "cell_type": "code",
      "source": [
        "keras.backend.set_floatx('float64')\n",
        "\n",
        "model = keras.models.Sequential([\n",
        "                                 layers.Dense(14, activation =\"elu\", input_shape=(4,)),\n",
        "                                 layers.Dense(14, activation =\"elu\") \n",
        "                                ])\n",
        "\n",
        "model.summary()"
      ],
      "metadata": {
        "colab": {
          "base_uri": "https://localhost:8080/"
        },
        "id": "-ij9oSLXTULV",
        "outputId": "7a450c93-1206-4420-cdc7-8438e15c2dcd"
      },
      "execution_count": 11,
      "outputs": [
        {
          "output_type": "stream",
          "name": "stdout",
          "text": [
            "Model: \"sequential\"\n",
            "_________________________________________________________________\n",
            " Layer (type)                Output Shape              Param #   \n",
            "=================================================================\n",
            " dense (Dense)               (None, 14)                70        \n",
            "                                                                 \n",
            " dense_1 (Dense)             (None, 14)                210       \n",
            "                                                                 \n",
            "=================================================================\n",
            "Total params: 280\n",
            "Trainable params: 280\n",
            "Non-trainable params: 0\n",
            "_________________________________________________________________\n"
          ]
        }
      ]
    },
    {
      "cell_type": "code",
      "source": [
        "def data_encoding(x):\n",
        "    qml.Squeezing(x[3], x[4], wires=0)\n",
        "    qml.Squeezing(x[9], x[10], wires=1)\n",
        "    \n",
        "    qml.Beamsplitter(x[5], x[6], wires=[0,1])\n",
        "    \n",
        "    qml.Rotation(x[7], wires=0)\n",
        "    qml.Rotation(x[8], wires=1)\n",
        "    \n",
        "    qml.Displacement(x[1], x[2], wires=0)\n",
        "    qml.Displacement(x[11], x[12], wires=1)\n",
        "    \n",
        "    qml.Kerr(x[0], wires=0)\n",
        "    qml.Kerr(x[13], wires=1)"
      ],
      "metadata": {
        "id": "vUIOyk6jTWg9"
      },
      "execution_count": 12,
      "outputs": []
    },
    {
      "cell_type": "code",
      "source": [
        "def qnn_layer(v):\n",
        "    # Interferometer 1\n",
        "    qml.Beamsplitter(v[0], v[1], wires=[0,1])\n",
        "    qml.Rotation(v[2], wires=0)\n",
        "    qml.Rotation(v[3], wires=1)\n",
        "    \n",
        "    # Squeezers\n",
        "    qml.Squeezing(v[4], 0.0, wires=0)\n",
        "    qml.Squeezing(v[5], 0.0, wires=1)\n",
        "    \n",
        "    # Interferometer 2\n",
        "    qml.Beamsplitter(v[6], v[7], wires=[0,1])\n",
        "    qml.Rotation(v[8], wires=0)\n",
        "    qml.Rotation(v[9], wires=1)\n",
        "    \n",
        "    # Bias addition\n",
        "    qml.Displacement(v[10], 0.0, wires=0)\n",
        "    qml.Displacement(v[11], 0.0, wires=1)\n",
        "    \n",
        "    # Non-linear activation function\n",
        "    qml.Kerr(v[12], wires=0)\n",
        "    qml.Kerr(v[13], wires=1)"
      ],
      "metadata": {
        "id": "mDYpIRCWTZh6"
      },
      "execution_count": 13,
      "outputs": []
    },
    {
      "cell_type": "code",
      "source": [
        "def init_weights(layers, modes, active_sd=0.0001, passive_sd=0.1):\n",
        "    \n",
        "    # Number of interferometer parameters: beamsplitter + 2 rotations\n",
        "    M = 2 + 1 + 1  \n",
        "\n",
        "    int1_weights = tf.random.normal(shape=[layers, M], stddev=passive_sd)\n",
        "    s_weights = tf.random.normal(shape=[layers, modes], stddev=active_sd)\n",
        "    int2_weights = tf.random.normal(shape=[layers, M], stddev=passive_sd)\n",
        "    dr_weights = tf.random.normal(shape=[layers, modes], stddev=active_sd)\n",
        "    k_weights = tf.random.normal(shape=[layers, modes], stddev=active_sd)\n",
        "\n",
        "    weights = tf.concat([int1_weights, s_weights, int2_weights, dr_weights, k_weights], axis=1)\n",
        "    weights = tf.Variable(weights)\n",
        "\n",
        "    return weights"
      ],
      "metadata": {
        "id": "Is_3xGugTcuQ"
      },
      "execution_count": 14,
      "outputs": []
    },
    {
      "cell_type": "code",
      "source": [
        "num_modes = 2\n",
        "cutoff_dim = 4\n",
        "\n",
        "# select a devide \n",
        "dev = qml.device(\"strawberryfields.fock\", wires=num_modes, cutoff_dim=cutoff_dim) \n",
        "\n",
        "@qml.qnode(dev, interface=\"tf\")\n",
        "def quantum_nn(inputs, var):\n",
        "    # Encode input x into quantum state\n",
        "    data_encoding(inputs)\n",
        "\n",
        "    # iterative quantum layers\n",
        "    for v in var:\n",
        "        qnn_layer(v)\n",
        "\n",
        "    return qml.probs(wires=[0, 1])"
      ],
      "metadata": {
        "id": "h9X0PhmYTev8"
      },
      "execution_count": 15,
      "outputs": []
    },
    {
      "cell_type": "code",
      "source": [
        "num_layers = 4\n",
        "\n",
        "# initialize weights for quantum layers\n",
        "weigths = init_weights(num_layers, num_modes)\n",
        "\n",
        "# convert the quantum layer to a Keras layer\n",
        "shape_tup = weigths.shape\n",
        "weight_shapes = {'var': shape_tup}\n",
        "qlayer = qml.qnn.KerasLayer(quantum_nn, weight_shapes, output_dim=4)\n",
        "\n",
        "# add to the classical sequential model\n",
        "model.add(qlayer)"
      ],
      "metadata": {
        "id": "5gnPOF1fTgy5"
      },
      "execution_count": 16,
      "outputs": []
    },
    {
      "cell_type": "code",
      "source": [
        "opt = keras.optimizers.SGD(lr = 0.002)\n",
        "model.compile(opt, loss = 'categorical_crossentropy', metrics =['accuracy'])"
      ],
      "metadata": {
        "colab": {
          "base_uri": "https://localhost:8080/"
        },
        "id": "iH5TJTpLVzzi",
        "outputId": "ab93475a-27f0-48ca-99b2-e115a788301d"
      },
      "execution_count": 17,
      "outputs": [
        {
          "output_type": "stream",
          "name": "stderr",
          "text": [
            "/usr/local/lib/python3.7/dist-packages/keras/optimizers/optimizer_v2/gradient_descent.py:108: UserWarning: The `lr` argument is deprecated, use `learning_rate` instead.\n"
          ]
        }
      ]
    },
    {
      "cell_type": "code",
      "source": [
        "hybrid = model.fit(x_train, \n",
        "                   y_train,\n",
        "                   epochs = 30,\n",
        "                   batch_size = 64,\n",
        "                   shuffle = True, \n",
        "                   validation_data = (x_test, y_test))"
      ],
      "metadata": {
        "colab": {
          "base_uri": "https://localhost:8080/"
        },
        "id": "kEYA8cIoV2wY",
        "outputId": "8554e6a2-894d-4edf-f29c-073e6cbf63b3"
      },
      "execution_count": 18,
      "outputs": [
        {
          "output_type": "stream",
          "name": "stdout",
          "text": [
            "Epoch 1/30\n",
            "3/3 [==============================] - 86s 23s/step - loss: 1.8191 - accuracy: 0.3099 - val_loss: 1.4752 - val_accuracy: 0.6250\n",
            "Epoch 2/30\n",
            "3/3 [==============================] - 80s 22s/step - loss: 1.3798 - accuracy: 0.4930 - val_loss: 1.1893 - val_accuracy: 0.6250\n",
            "Epoch 3/30\n",
            "3/3 [==============================] - 80s 22s/step - loss: 1.3606 - accuracy: 0.5845 - val_loss: 2.6340 - val_accuracy: 0.5000\n",
            "Epoch 4/30\n",
            "3/3 [==============================] - 81s 22s/step - loss: 1.4879 - accuracy: 0.6268 - val_loss: 1.1999 - val_accuracy: 0.5000\n",
            "Epoch 5/30\n",
            "3/3 [==============================] - 81s 22s/step - loss: 1.0355 - accuracy: 0.8239 - val_loss: 0.9362 - val_accuracy: 0.7500\n",
            "Epoch 6/30\n",
            "3/3 [==============================] - 80s 22s/step - loss: 0.9389 - accuracy: 0.8451 - val_loss: 0.8965 - val_accuracy: 0.7500\n",
            "Epoch 7/30\n",
            "3/3 [==============================] - 81s 22s/step - loss: 0.9063 - accuracy: 0.8028 - val_loss: 0.7523 - val_accuracy: 0.8750\n",
            "Epoch 8/30\n",
            "3/3 [==============================] - 80s 22s/step - loss: 0.7966 - accuracy: 0.9014 - val_loss: 0.8108 - val_accuracy: 0.8750\n",
            "Epoch 9/30\n",
            "3/3 [==============================] - 80s 22s/step - loss: 0.8147 - accuracy: 0.8099 - val_loss: 0.9796 - val_accuracy: 0.6250\n",
            "Epoch 10/30\n",
            "3/3 [==============================] - 80s 22s/step - loss: 0.8410 - accuracy: 0.8028 - val_loss: 0.7898 - val_accuracy: 0.8750\n",
            "Epoch 11/30\n",
            "3/3 [==============================] - 80s 22s/step - loss: 0.7536 - accuracy: 0.8873 - val_loss: 0.6983 - val_accuracy: 1.0000\n",
            "Epoch 12/30\n",
            "3/3 [==============================] - 81s 22s/step - loss: 0.7130 - accuracy: 0.9437 - val_loss: 0.8434 - val_accuracy: 0.7500\n",
            "Epoch 13/30\n",
            "3/3 [==============================] - 81s 22s/step - loss: 0.7672 - accuracy: 0.8944 - val_loss: 1.0157 - val_accuracy: 0.6250\n",
            "Epoch 14/30\n",
            "3/3 [==============================] - 82s 23s/step - loss: 0.8847 - accuracy: 0.6972 - val_loss: 0.6178 - val_accuracy: 1.0000\n",
            "Epoch 15/30\n",
            "3/3 [==============================] - 80s 22s/step - loss: 0.7042 - accuracy: 0.9296 - val_loss: 0.6858 - val_accuracy: 0.8750\n",
            "Epoch 16/30\n",
            "3/3 [==============================] - 79s 22s/step - loss: 0.6630 - accuracy: 0.9437 - val_loss: 0.6285 - val_accuracy: 1.0000\n",
            "Epoch 17/30\n",
            "3/3 [==============================] - 79s 22s/step - loss: 0.6561 - accuracy: 0.9366 - val_loss: 0.6363 - val_accuracy: 1.0000\n",
            "Epoch 18/30\n",
            "3/3 [==============================] - 79s 22s/step - loss: 0.6449 - accuracy: 0.9507 - val_loss: 0.6344 - val_accuracy: 1.0000\n",
            "Epoch 19/30\n",
            "3/3 [==============================] - 79s 22s/step - loss: 0.6471 - accuracy: 0.9296 - val_loss: 0.5963 - val_accuracy: 1.0000\n",
            "Epoch 20/30\n",
            "3/3 [==============================] - 79s 22s/step - loss: 0.6668 - accuracy: 0.8944 - val_loss: 0.5643 - val_accuracy: 1.0000\n",
            "Epoch 21/30\n",
            "3/3 [==============================] - 79s 22s/step - loss: 0.6250 - accuracy: 0.9366 - val_loss: 0.5834 - val_accuracy: 1.0000\n",
            "Epoch 22/30\n",
            "3/3 [==============================] - 79s 22s/step - loss: 0.6164 - accuracy: 0.9507 - val_loss: 0.5862 - val_accuracy: 1.0000\n",
            "Epoch 23/30\n",
            "3/3 [==============================] - 79s 22s/step - loss: 0.6239 - accuracy: 0.9085 - val_loss: 1.4607 - val_accuracy: 0.3750\n",
            "Epoch 24/30\n",
            "3/3 [==============================] - 78s 22s/step - loss: 1.5093 - accuracy: 0.5070 - val_loss: 0.9222 - val_accuracy: 0.7500\n",
            "Epoch 25/30\n",
            "3/3 [==============================] - 79s 22s/step - loss: 0.8175 - accuracy: 0.8169 - val_loss: 0.8684 - val_accuracy: 0.8750\n",
            "Epoch 26/30\n",
            "3/3 [==============================] - 80s 22s/step - loss: 0.7672 - accuracy: 0.8310 - val_loss: 0.7860 - val_accuracy: 0.8750\n",
            "Epoch 27/30\n",
            "3/3 [==============================] - 90s 25s/step - loss: 0.7586 - accuracy: 0.8451 - val_loss: 0.8901 - val_accuracy: 0.6250\n",
            "Epoch 28/30\n",
            "3/3 [==============================] - 80s 22s/step - loss: 0.7249 - accuracy: 0.8803 - val_loss: 0.8851 - val_accuracy: 0.7500\n",
            "Epoch 29/30\n",
            "3/3 [==============================] - 79s 22s/step - loss: 0.7056 - accuracy: 0.9296 - val_loss: 0.7496 - val_accuracy: 1.0000\n",
            "Epoch 30/30\n",
            "3/3 [==============================] - 81s 22s/step - loss: 0.6681 - accuracy: 0.9014 - val_loss: 0.7063 - val_accuracy: 1.0000\n"
          ]
        }
      ]
    },
    {
      "cell_type": "code",
      "source": [
        "model.summary()"
      ],
      "metadata": {
        "id": "8Syjs402V5ba",
        "outputId": "93ded488-ab4b-4460-e893-0e9966dd96ce",
        "colab": {
          "base_uri": "https://localhost:8080/"
        }
      },
      "execution_count": 19,
      "outputs": [
        {
          "output_type": "stream",
          "name": "stdout",
          "text": [
            "Model: \"sequential\"\n",
            "_________________________________________________________________\n",
            " Layer (type)                Output Shape              Param #   \n",
            "=================================================================\n",
            " dense (Dense)               (None, 14)                70        \n",
            "                                                                 \n",
            " dense_1 (Dense)             (None, 14)                210       \n",
            "                                                                 \n",
            " keras_layer (KerasLayer)    (None, 4)                 56        \n",
            "                                                                 \n",
            "=================================================================\n",
            "Total params: 336\n",
            "Trainable params: 336\n",
            "Non-trainable params: 0\n",
            "_________________________________________________________________\n"
          ]
        }
      ]
    },
    {
      "cell_type": "code",
      "source": [
        "# ===================================================================================\n",
        "#                                  Loss History Plot\n",
        "# ===================================================================================\n",
        "\n",
        "plt.title('train loss')\n",
        "plt.plot(hybrid.history['loss'], '-g')\n",
        "plt.xlabel('epoch')\n",
        "plt.ylabel('loss')\n",
        "plt.show()"
      ],
      "metadata": {
        "id": "PiV6rbm5V97F",
        "outputId": "56d8da03-a030-4ac8-87de-e9792a0d9e2d",
        "colab": {
          "base_uri": "https://localhost:8080/",
          "height": 295
        }
      },
      "execution_count": 26,
      "outputs": [
        {
          "output_type": "display_data",
          "data": {
            "text/plain": [
              "<Figure size 432x288 with 1 Axes>"
            ],
            "image/png": "[encoded data removed]"
          },
          "metadata": {
            "needs_background": "light"
          }
        }
      ]
    },
    {
      "cell_type": "code",
      "source": [
        "# ===================================================================================\n",
        "#                                  Loss History Plot\n",
        "# ===================================================================================\n",
        "\n",
        "plt.title('val loss')\n",
        "plt.plot(hybrid.history['val_loss'], '-g')\n",
        "plt.xlabel('epoch')\n",
        "plt.ylabel('loss')\n",
        "plt.show()"
      ],
      "metadata": {
        "colab": {
          "base_uri": "https://localhost:8080/",
          "height": 295
        },
        "id": "nMlAqXUjvhoK",
        "outputId": "9e71f2bd-fcd7-4da9-94b4-d7ed797c1802"
      },
      "execution_count": 27,
      "outputs": [
        {
          "output_type": "display_data",
          "data": {
            "text/plain": [
              "<Figure size 432x288 with 1 Axes>"
            ],
            "image/png": "[encoded data removed]"
          },
          "metadata": {
            "needs_background": "light"
          }
        }
      ]
    },
    {
      "cell_type": "code",
      "source": [
        "# ===================================================================================\n",
        "#                                Accuracy History Plot\n",
        "# ===================================================================================\n",
        "\n",
        "plt.title('train accuracy')\n",
        "plt.plot(hybrid.history['accuracy'], '-g')\n",
        "plt.ylabel('accuracy')\n",
        "plt.show()"
      ],
      "metadata": {
        "id": "dQLypn_MWBSV",
        "outputId": "0d2f5335-ce7e-48de-d2a2-9b29361717de",
        "colab": {
          "base_uri": "https://localhost:8080/",
          "height": 281
        }
      },
      "execution_count": 29,
      "outputs": [
        {
          "output_type": "display_data",
          "data": {
            "text/plain": [
              "<Figure size 432x288 with 1 Axes>"
            ],
            "image/png": "[encoded data removed]"
          },
          "metadata": {
            "needs_background": "light"
          }
        }
      ]
    },
    {
      "cell_type": "code",
      "source": [
        "# ===================================================================================\n",
        "#                                Accuracy History Plot\n",
        "# ===================================================================================\n",
        "\n",
        "plt.title('val accuracy')\n",
        "plt.plot(hybrid.history['val_accuracy'], '-g')\n",
        "plt.ylabel('accuracy')\n",
        "plt.show()"
      ],
      "metadata": {
        "colab": {
          "base_uri": "https://localhost:8080/",
          "height": 281
        },
        "id": "OY_G53qWvpTr",
        "outputId": "ff226500-d684-49cf-cddd-752e2e430969"
      },
      "execution_count": 28,
      "outputs": [
        {
          "output_type": "display_data",
          "data": {
            "text/plain": [
              "<Figure size 432x288 with 1 Axes>"
            ],
            "image/png": "[encoded data removed]"
          },
          "metadata": {
            "needs_background": "light"
          }
        }
      ]
    }
  ]
}